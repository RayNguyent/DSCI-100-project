{
 "cells": [
  {
   "cell_type": "markdown",
   "metadata": {},
   "source": [
    "# Predicting NBA All-Star Chance Based on Player Performance"
   ]
  },
  {
   "cell_type": "markdown",
   "metadata": {},
   "source": [
    "By: Bill Makwae, Ayush Vora, Ray Nguyen, QingRu Kong"
   ]
  },
  {
   "cell_type": "markdown",
   "metadata": {},
   "source": [
    "## Introduction"
   ]
  },
  {
   "cell_type": "markdown",
   "metadata": {},
   "source": [
    "Every year in February, NBA fans rejoice as they get to see their favorite players selected for the all-star game. Players are selected by media and fan votes, meaning that popularity is the nominating factor. However, players are more likely to be popular based on their individual game-to-game performance. Thus, this analysis hopes to answer the question: Can an NBA player’s selection to the all star game be predicted by their annual performance?\n",
    "\n",
    "In order to answer this question, we will be using two sets of data, one from [\"NBA Player Stats” on nba.com](https://www.nba.com/stats/players/traditional/?sort=PTS&dir=-1&Season=2015-16&SeasonType=Regular%20Season) and [“NBA All Stars 2000-2016” from kaggle.com](https://www.kaggle.com/fmejia21/nba-all-star-game-20002016?select=NBA+All+Stars+2000-2016+-+Sheet1.csv). NBA Player Stats includes all the NBA player statistics for each season from 2010-2016 and the All Star dataset includes the all star statistics from 2000-2016. Using these datasets we aim to make a classification model that will predict whether a player will be an all star for each season based on their annual performances."
   ]
  },
  {
   "cell_type": "markdown",
   "metadata": {},
   "source": [
    "## Preliminary Exploratory Data Analysis"
   ]
  },
  {
   "cell_type": "code",
   "execution_count": 1,
   "metadata": {},
   "outputs": [
    {
     "name": "stderr",
     "output_type": "stream",
     "text": [
      "── \u001b[1mAttaching packages\u001b[22m ─────────────────────────────────────── tidyverse 1.3.0 ──\n",
      "\n",
      "\u001b[32m✔\u001b[39m \u001b[34mggplot2\u001b[39m 3.3.2     \u001b[32m✔\u001b[39m \u001b[34mpurrr  \u001b[39m 0.3.4\n",
      "\u001b[32m✔\u001b[39m \u001b[34mtibble \u001b[39m 3.0.3     \u001b[32m✔\u001b[39m \u001b[34mdplyr  \u001b[39m 1.0.2\n",
      "\u001b[32m✔\u001b[39m \u001b[34mtidyr  \u001b[39m 1.1.2     \u001b[32m✔\u001b[39m \u001b[34mstringr\u001b[39m 1.4.0\n",
      "\u001b[32m✔\u001b[39m \u001b[34mreadr  \u001b[39m 1.3.1     \u001b[32m✔\u001b[39m \u001b[34mforcats\u001b[39m 0.5.0\n",
      "\n",
      "Warning message:\n",
      "“package ‘ggplot2’ was built under R version 4.0.1”\n",
      "Warning message:\n",
      "“package ‘tibble’ was built under R version 4.0.2”\n",
      "Warning message:\n",
      "“package ‘tidyr’ was built under R version 4.0.2”\n",
      "Warning message:\n",
      "“package ‘dplyr’ was built under R version 4.0.2”\n",
      "── \u001b[1mConflicts\u001b[22m ────────────────────────────────────────── tidyverse_conflicts() ──\n",
      "\u001b[31m✖\u001b[39m \u001b[34mdplyr\u001b[39m::\u001b[32mfilter()\u001b[39m masks \u001b[34mstats\u001b[39m::filter()\n",
      "\u001b[31m✖\u001b[39m \u001b[34mdplyr\u001b[39m::\u001b[32mlag()\u001b[39m    masks \u001b[34mstats\u001b[39m::lag()\n",
      "\n",
      "Registered S3 method overwritten by 'GGally':\n",
      "  method from   \n",
      "  +.gg   ggplot2\n",
      "\n"
     ]
    }
   ],
   "source": [
    "## RUN THIS FIRST TO LOAD LIBRARIES\n",
    "\n",
    "library(tidyverse)\n",
    "library(repr)\n",
    "library(readxl)\n",
    "library(dplyr)\n",
    "library(GGally)"
   ]
  },
  {
   "cell_type": "code",
   "execution_count": 2,
   "metadata": {},
   "outputs": [
    {
     "data": {
      "text/html": [
       "<table>\n",
       "<caption>A data.frame: 6 × 27</caption>\n",
       "<thead>\n",
       "\t<tr><th></th><th scope=col>Year</th><th scope=col>Player</th><th scope=col>not_Match_Up</th><th scope=col>MIN</th><th scope=col>PTS</th><th scope=col>not_WL</th><th scope=col>not_MIN</th><th scope=col>FG.</th><th scope=col>not_FGM</th><th scope=col>not_FGA</th><th scope=col>⋯</th><th scope=col>AST</th><th scope=col>not_DREB</th><th scope=col>not_REB</th><th scope=col>not_AST</th><th scope=col>not_STL</th><th scope=col>BLK</th><th scope=col>TOV</th><th scope=col>PF</th><th scope=col>PlusMinus</th><th scope=col>Fantasy</th></tr>\n",
       "\t<tr><th></th><th scope=col>&lt;int&gt;</th><th scope=col>&lt;chr&gt;</th><th scope=col>&lt;int&gt;</th><th scope=col>&lt;dbl&gt;</th><th scope=col>&lt;dbl&gt;</th><th scope=col>&lt;dbl&gt;</th><th scope=col>&lt;dbl&gt;</th><th scope=col>&lt;dbl&gt;</th><th scope=col>&lt;dbl&gt;</th><th scope=col>&lt;dbl&gt;</th><th scope=col>⋯</th><th scope=col>&lt;dbl&gt;</th><th scope=col>&lt;dbl&gt;</th><th scope=col>&lt;dbl&gt;</th><th scope=col>&lt;dbl&gt;</th><th scope=col>&lt;dbl&gt;</th><th scope=col>&lt;lgl&gt;</th><th scope=col>&lt;lgl&gt;</th><th scope=col>&lt;lgl&gt;</th><th scope=col>&lt;lgl&gt;</th><th scope=col>&lt;lgl&gt;</th></tr>\n",
       "</thead>\n",
       "<tbody>\n",
       "\t<tr><th scope=row>1</th><td>2011</td><td>Kevin Durant     </td><td>78</td><td>38.9</td><td>27.7</td><td>9.1</td><td>19.7</td><td>46.2</td><td>1.9</td><td>5.3</td><td>⋯</td><td>2.7</td><td>1.1</td><td>1.0</td><td>2.8</td><td>24.9</td><td>NA</td><td>NA</td><td>NA</td><td>NA</td><td>NA</td></tr>\n",
       "\t<tr><th scope=row>2</th><td>2011</td><td>LeBron James     </td><td>79</td><td>38.8</td><td>26.7</td><td>9.6</td><td>18.8</td><td>51.0</td><td>1.2</td><td>3.5</td><td>⋯</td><td>7.0</td><td>1.6</td><td>0.6</td><td>3.6</td><td>28.6</td><td>NA</td><td>NA</td><td>NA</td><td>NA</td><td>NA</td></tr>\n",
       "\t<tr><th scope=row>3</th><td>2011</td><td>Carmelo Anthony  </td><td>77</td><td>35.7</td><td>25.6</td><td>8.9</td><td>19.5</td><td>45.5</td><td>1.2</td><td>3.3</td><td>⋯</td><td>2.9</td><td>0.9</td><td>0.6</td><td>2.7</td><td>22.7</td><td>NA</td><td>NA</td><td>NA</td><td>NA</td><td>NA</td></tr>\n",
       "\t<tr><th scope=row>4</th><td>2011</td><td>Dwyane Wade      </td><td>76</td><td>37.1</td><td>25.5</td><td>9.1</td><td>18.2</td><td>50.0</td><td>0.8</td><td>2.7</td><td>⋯</td><td>4.6</td><td>1.5</td><td>1.1</td><td>3.1</td><td>24.8</td><td>NA</td><td>NA</td><td>NA</td><td>NA</td><td>NA</td></tr>\n",
       "\t<tr><th scope=row>5</th><td>2011</td><td>Kobe Bryant      </td><td>82</td><td>33.9</td><td>25.3</td><td>9.0</td><td>20.0</td><td>45.1</td><td>1.4</td><td>4.3</td><td>⋯</td><td>4.7</td><td>1.2</td><td>0.1</td><td>3.0</td><td>21.4</td><td>NA</td><td>NA</td><td>NA</td><td>NA</td><td>NA</td></tr>\n",
       "\t<tr><th scope=row>6</th><td>2011</td><td>Amar'e Stoudemire</td><td>78</td><td>36.8</td><td>25.3</td><td>9.5</td><td>19.0</td><td>50.2</td><td>0.1</td><td>0.3</td><td>⋯</td><td>2.6</td><td>0.9</td><td>1.9</td><td>3.2</td><td>24.6</td><td>NA</td><td>NA</td><td>NA</td><td>NA</td><td>NA</td></tr>\n",
       "</tbody>\n",
       "</table>\n"
      ],
      "text/latex": [
       "A data.frame: 6 × 27\n",
       "\\begin{tabular}{r|lllllllllllllllllllll}\n",
       "  & Year & Player & not\\_Match\\_Up & MIN & PTS & not\\_WL & not\\_MIN & FG. & not\\_FGM & not\\_FGA & ⋯ & AST & not\\_DREB & not\\_REB & not\\_AST & not\\_STL & BLK & TOV & PF & PlusMinus & Fantasy\\\\\n",
       "  & <int> & <chr> & <int> & <dbl> & <dbl> & <dbl> & <dbl> & <dbl> & <dbl> & <dbl> & ⋯ & <dbl> & <dbl> & <dbl> & <dbl> & <dbl> & <lgl> & <lgl> & <lgl> & <lgl> & <lgl>\\\\\n",
       "\\hline\n",
       "\t1 & 2011 & Kevin Durant      & 78 & 38.9 & 27.7 & 9.1 & 19.7 & 46.2 & 1.9 & 5.3 & ⋯ & 2.7 & 1.1 & 1.0 & 2.8 & 24.9 & NA & NA & NA & NA & NA\\\\\n",
       "\t2 & 2011 & LeBron James      & 79 & 38.8 & 26.7 & 9.6 & 18.8 & 51.0 & 1.2 & 3.5 & ⋯ & 7.0 & 1.6 & 0.6 & 3.6 & 28.6 & NA & NA & NA & NA & NA\\\\\n",
       "\t3 & 2011 & Carmelo Anthony   & 77 & 35.7 & 25.6 & 8.9 & 19.5 & 45.5 & 1.2 & 3.3 & ⋯ & 2.9 & 0.9 & 0.6 & 2.7 & 22.7 & NA & NA & NA & NA & NA\\\\\n",
       "\t4 & 2011 & Dwyane Wade       & 76 & 37.1 & 25.5 & 9.1 & 18.2 & 50.0 & 0.8 & 2.7 & ⋯ & 4.6 & 1.5 & 1.1 & 3.1 & 24.8 & NA & NA & NA & NA & NA\\\\\n",
       "\t5 & 2011 & Kobe Bryant       & 82 & 33.9 & 25.3 & 9.0 & 20.0 & 45.1 & 1.4 & 4.3 & ⋯ & 4.7 & 1.2 & 0.1 & 3.0 & 21.4 & NA & NA & NA & NA & NA\\\\\n",
       "\t6 & 2011 & Amar'e Stoudemire & 78 & 36.8 & 25.3 & 9.5 & 19.0 & 50.2 & 0.1 & 0.3 & ⋯ & 2.6 & 0.9 & 1.9 & 3.2 & 24.6 & NA & NA & NA & NA & NA\\\\\n",
       "\\end{tabular}\n"
      ],
      "text/markdown": [
       "\n",
       "A data.frame: 6 × 27\n",
       "\n",
       "| <!--/--> | Year &lt;int&gt; | Player &lt;chr&gt; | not_Match_Up &lt;int&gt; | MIN &lt;dbl&gt; | PTS &lt;dbl&gt; | not_WL &lt;dbl&gt; | not_MIN &lt;dbl&gt; | FG. &lt;dbl&gt; | not_FGM &lt;dbl&gt; | not_FGA &lt;dbl&gt; | ⋯ ⋯ | AST &lt;dbl&gt; | not_DREB &lt;dbl&gt; | not_REB &lt;dbl&gt; | not_AST &lt;dbl&gt; | not_STL &lt;dbl&gt; | BLK &lt;lgl&gt; | TOV &lt;lgl&gt; | PF &lt;lgl&gt; | PlusMinus &lt;lgl&gt; | Fantasy &lt;lgl&gt; |\n",
       "|---|---|---|---|---|---|---|---|---|---|---|---|---|---|---|---|---|---|---|---|---|---|\n",
       "| 1 | 2011 | Kevin Durant      | 78 | 38.9 | 27.7 | 9.1 | 19.7 | 46.2 | 1.9 | 5.3 | ⋯ | 2.7 | 1.1 | 1.0 | 2.8 | 24.9 | NA | NA | NA | NA | NA |\n",
       "| 2 | 2011 | LeBron James      | 79 | 38.8 | 26.7 | 9.6 | 18.8 | 51.0 | 1.2 | 3.5 | ⋯ | 7.0 | 1.6 | 0.6 | 3.6 | 28.6 | NA | NA | NA | NA | NA |\n",
       "| 3 | 2011 | Carmelo Anthony   | 77 | 35.7 | 25.6 | 8.9 | 19.5 | 45.5 | 1.2 | 3.3 | ⋯ | 2.9 | 0.9 | 0.6 | 2.7 | 22.7 | NA | NA | NA | NA | NA |\n",
       "| 4 | 2011 | Dwyane Wade       | 76 | 37.1 | 25.5 | 9.1 | 18.2 | 50.0 | 0.8 | 2.7 | ⋯ | 4.6 | 1.5 | 1.1 | 3.1 | 24.8 | NA | NA | NA | NA | NA |\n",
       "| 5 | 2011 | Kobe Bryant       | 82 | 33.9 | 25.3 | 9.0 | 20.0 | 45.1 | 1.4 | 4.3 | ⋯ | 4.7 | 1.2 | 0.1 | 3.0 | 21.4 | NA | NA | NA | NA | NA |\n",
       "| 6 | 2011 | Amar'e Stoudemire | 78 | 36.8 | 25.3 | 9.5 | 19.0 | 50.2 | 0.1 | 0.3 | ⋯ | 2.6 | 0.9 | 1.9 | 3.2 | 24.6 | NA | NA | NA | NA | NA |\n",
       "\n"
      ],
      "text/plain": [
       "  Year Player            not_Match_Up MIN  PTS  not_WL not_MIN FG.  not_FGM\n",
       "1 2011 Kevin Durant      78           38.9 27.7 9.1    19.7    46.2 1.9    \n",
       "2 2011 LeBron James      79           38.8 26.7 9.6    18.8    51.0 1.2    \n",
       "3 2011 Carmelo Anthony   77           35.7 25.6 8.9    19.5    45.5 1.2    \n",
       "4 2011 Dwyane Wade       76           37.1 25.5 9.1    18.2    50.0 0.8    \n",
       "5 2011 Kobe Bryant       82           33.9 25.3 9.0    20.0    45.1 1.4    \n",
       "6 2011 Amar'e Stoudemire 78           36.8 25.3 9.5    19.0    50.2 0.1    \n",
       "  not_FGA ⋯ AST not_DREB not_REB not_AST not_STL BLK TOV PF PlusMinus Fantasy\n",
       "1 5.3     ⋯ 2.7 1.1      1.0     2.8     24.9    NA  NA  NA NA        NA     \n",
       "2 3.5     ⋯ 7.0 1.6      0.6     3.6     28.6    NA  NA  NA NA        NA     \n",
       "3 3.3     ⋯ 2.9 0.9      0.6     2.7     22.7    NA  NA  NA NA        NA     \n",
       "4 2.7     ⋯ 4.6 1.5      1.1     3.1     24.8    NA  NA  NA NA        NA     \n",
       "5 4.3     ⋯ 4.7 1.2      0.1     3.0     21.4    NA  NA  NA NA        NA     \n",
       "6 0.3     ⋯ 2.6 0.9      1.9     3.2     24.6    NA  NA  NA NA        NA     "
      ]
     },
     "metadata": {},
     "output_type": "display_data"
    },
    {
     "data": {
      "text/html": [
       "<table>\n",
       "<caption>A data.frame: 6 × 7</caption>\n",
       "<thead>\n",
       "\t<tr><th></th><th scope=col>Year</th><th scope=col>Player</th><th scope=col>MIN</th><th scope=col>PTS</th><th scope=col>FG.</th><th scope=col>REB</th><th scope=col>AST</th></tr>\n",
       "\t<tr><th></th><th scope=col>&lt;int&gt;</th><th scope=col>&lt;chr&gt;</th><th scope=col>&lt;dbl&gt;</th><th scope=col>&lt;dbl&gt;</th><th scope=col>&lt;dbl&gt;</th><th scope=col>&lt;dbl&gt;</th><th scope=col>&lt;dbl&gt;</th></tr>\n",
       "</thead>\n",
       "<tbody>\n",
       "\t<tr><th scope=row>1</th><td>2011</td><td>Kevin Durant     </td><td>38.9</td><td>27.7</td><td>46.2</td><td>6.8</td><td>2.7</td></tr>\n",
       "\t<tr><th scope=row>2</th><td>2011</td><td>LeBron James     </td><td>38.8</td><td>26.7</td><td>51.0</td><td>7.5</td><td>7.0</td></tr>\n",
       "\t<tr><th scope=row>3</th><td>2011</td><td>Carmelo Anthony  </td><td>35.7</td><td>25.6</td><td>45.5</td><td>7.3</td><td>2.9</td></tr>\n",
       "\t<tr><th scope=row>4</th><td>2011</td><td>Dwyane Wade      </td><td>37.1</td><td>25.5</td><td>50.0</td><td>6.4</td><td>4.6</td></tr>\n",
       "\t<tr><th scope=row>5</th><td>2011</td><td>Kobe Bryant      </td><td>33.9</td><td>25.3</td><td>45.1</td><td>5.1</td><td>4.7</td></tr>\n",
       "\t<tr><th scope=row>6</th><td>2011</td><td>Amar'e Stoudemire</td><td>36.8</td><td>25.3</td><td>50.2</td><td>8.2</td><td>2.6</td></tr>\n",
       "</tbody>\n",
       "</table>\n"
      ],
      "text/latex": [
       "A data.frame: 6 × 7\n",
       "\\begin{tabular}{r|lllllll}\n",
       "  & Year & Player & MIN & PTS & FG. & REB & AST\\\\\n",
       "  & <int> & <chr> & <dbl> & <dbl> & <dbl> & <dbl> & <dbl>\\\\\n",
       "\\hline\n",
       "\t1 & 2011 & Kevin Durant      & 38.9 & 27.7 & 46.2 & 6.8 & 2.7\\\\\n",
       "\t2 & 2011 & LeBron James      & 38.8 & 26.7 & 51.0 & 7.5 & 7.0\\\\\n",
       "\t3 & 2011 & Carmelo Anthony   & 35.7 & 25.6 & 45.5 & 7.3 & 2.9\\\\\n",
       "\t4 & 2011 & Dwyane Wade       & 37.1 & 25.5 & 50.0 & 6.4 & 4.6\\\\\n",
       "\t5 & 2011 & Kobe Bryant       & 33.9 & 25.3 & 45.1 & 5.1 & 4.7\\\\\n",
       "\t6 & 2011 & Amar'e Stoudemire & 36.8 & 25.3 & 50.2 & 8.2 & 2.6\\\\\n",
       "\\end{tabular}\n"
      ],
      "text/markdown": [
       "\n",
       "A data.frame: 6 × 7\n",
       "\n",
       "| <!--/--> | Year &lt;int&gt; | Player &lt;chr&gt; | MIN &lt;dbl&gt; | PTS &lt;dbl&gt; | FG. &lt;dbl&gt; | REB &lt;dbl&gt; | AST &lt;dbl&gt; |\n",
       "|---|---|---|---|---|---|---|---|\n",
       "| 1 | 2011 | Kevin Durant      | 38.9 | 27.7 | 46.2 | 6.8 | 2.7 |\n",
       "| 2 | 2011 | LeBron James      | 38.8 | 26.7 | 51.0 | 7.5 | 7.0 |\n",
       "| 3 | 2011 | Carmelo Anthony   | 35.7 | 25.6 | 45.5 | 7.3 | 2.9 |\n",
       "| 4 | 2011 | Dwyane Wade       | 37.1 | 25.5 | 50.0 | 6.4 | 4.6 |\n",
       "| 5 | 2011 | Kobe Bryant       | 33.9 | 25.3 | 45.1 | 5.1 | 4.7 |\n",
       "| 6 | 2011 | Amar'e Stoudemire | 36.8 | 25.3 | 50.2 | 8.2 | 2.6 |\n",
       "\n"
      ],
      "text/plain": [
       "  Year Player            MIN  PTS  FG.  REB AST\n",
       "1 2011 Kevin Durant      38.9 27.7 46.2 6.8 2.7\n",
       "2 2011 LeBron James      38.8 26.7 51.0 7.5 7.0\n",
       "3 2011 Carmelo Anthony   35.7 25.6 45.5 7.3 2.9\n",
       "4 2011 Dwyane Wade       37.1 25.5 50.0 6.4 4.6\n",
       "5 2011 Kobe Bryant       33.9 25.3 45.1 5.1 4.7\n",
       "6 2011 Amar'e Stoudemire 36.8 25.3 50.2 8.2 2.6"
      ]
     },
     "metadata": {},
     "output_type": "display_data"
    }
   ],
   "source": [
    "## Data set #1: NBA Player Stats\n",
    "## Filtered from years 2011-2015\n",
    "\n",
    "players <- read.csv(\"https://raw.githubusercontent.com/RayNguyent/DSCI-100-project/develop/data/nba_player_stats.csv\")\n",
    "\n",
    "head(players)\n",
    "\n",
    "players_filtered <- players %>% \n",
    "    filter(Year <= 2015 & Year >= 2011) %>% \n",
    "    filter(Player != \"0\") %>%\n",
    "    # TODO: I'm not exactly sure what we decided on about the variable choice discussion we had earlier, but I think we should only\n",
    "    #       have one table here, either the full or the cropped one. If we are only using the metrics below, we should probably\n",
    "    #       use the filtered one, in which case remove head(players).\n",
    "    select(Year, Player, MIN, PTS, FG., REB, AST)\n",
    "head(players_filtered)"
   ]
  },
  {
   "cell_type": "code",
   "execution_count": 3,
   "metadata": {},
   "outputs": [
    {
     "name": "stderr",
     "output_type": "stream",
     "text": [
      "Parsed with column specification:\n",
      "cols(\n",
      "  Year = \u001b[32mcol_double()\u001b[39m,\n",
      "  Player = \u001b[31mcol_character()\u001b[39m,\n",
      "  Pos = \u001b[31mcol_character()\u001b[39m,\n",
      "  HT = \u001b[31mcol_character()\u001b[39m,\n",
      "  WT = \u001b[32mcol_double()\u001b[39m,\n",
      "  Team = \u001b[31mcol_character()\u001b[39m,\n",
      "  `Selection Type` = \u001b[31mcol_character()\u001b[39m,\n",
      "  `NBA Draft Status` = \u001b[31mcol_character()\u001b[39m,\n",
      "  Nationality = \u001b[31mcol_character()\u001b[39m\n",
      ")\n",
      "\n"
     ]
    },
    {
     "data": {
      "text/html": [
       "<table>\n",
       "<caption>A tibble: 6 × 3</caption>\n",
       "<thead>\n",
       "\t<tr><th scope=col>Year</th><th scope=col>Player</th><th scope=col>Is_All_Star</th></tr>\n",
       "\t<tr><th scope=col>&lt;dbl&gt;</th><th scope=col>&lt;chr&gt;</th><th scope=col>&lt;chr&gt;</th></tr>\n",
       "</thead>\n",
       "<tbody>\n",
       "\t<tr><td>2015</td><td>LeBron James   </td><td>All Star</td></tr>\n",
       "\t<tr><td>2015</td><td>Dwyane Wade    </td><td>All Star</td></tr>\n",
       "\t<tr><td>2015</td><td>Paul George    </td><td>All Star</td></tr>\n",
       "\t<tr><td>2015</td><td>Carmelo Anthony</td><td>All Star</td></tr>\n",
       "\t<tr><td>2015</td><td>Kyle Lowry     </td><td>All Star</td></tr>\n",
       "\t<tr><td>2015</td><td>Jimmy Butler   </td><td>All Star</td></tr>\n",
       "</tbody>\n",
       "</table>\n"
      ],
      "text/latex": [
       "A tibble: 6 × 3\n",
       "\\begin{tabular}{lll}\n",
       " Year & Player & Is\\_All\\_Star\\\\\n",
       " <dbl> & <chr> & <chr>\\\\\n",
       "\\hline\n",
       "\t 2015 & LeBron James    & All Star\\\\\n",
       "\t 2015 & Dwyane Wade     & All Star\\\\\n",
       "\t 2015 & Paul George     & All Star\\\\\n",
       "\t 2015 & Carmelo Anthony & All Star\\\\\n",
       "\t 2015 & Kyle Lowry      & All Star\\\\\n",
       "\t 2015 & Jimmy Butler    & All Star\\\\\n",
       "\\end{tabular}\n"
      ],
      "text/markdown": [
       "\n",
       "A tibble: 6 × 3\n",
       "\n",
       "| Year &lt;dbl&gt; | Player &lt;chr&gt; | Is_All_Star &lt;chr&gt; |\n",
       "|---|---|---|\n",
       "| 2015 | LeBron James    | All Star |\n",
       "| 2015 | Dwyane Wade     | All Star |\n",
       "| 2015 | Paul George     | All Star |\n",
       "| 2015 | Carmelo Anthony | All Star |\n",
       "| 2015 | Kyle Lowry      | All Star |\n",
       "| 2015 | Jimmy Butler    | All Star |\n",
       "\n"
      ],
      "text/plain": [
       "  Year Player          Is_All_Star\n",
       "1 2015 LeBron James    All Star   \n",
       "2 2015 Dwyane Wade     All Star   \n",
       "3 2015 Paul George     All Star   \n",
       "4 2015 Carmelo Anthony All Star   \n",
       "5 2015 Kyle Lowry      All Star   \n",
       "6 2015 Jimmy Butler    All Star   "
      ]
     },
     "metadata": {},
     "output_type": "display_data"
    }
   ],
   "source": [
    "## Data set #1: NBA All Stars 2000-2016\n",
    "## Filtered from years 2011-2015\n",
    "\n",
    "all_stars <- read_csv(\"https://raw.githubusercontent.com/RayNguyent/DSCI-100-project/develop/data/all_stars_2000_2016.csv\")\n",
    "all_stars_filtered <- all_stars %>% \n",
    "    filter(Year <= 2015 & Year >= 2011) %>% \n",
    "    select(Year, Player) %>% \n",
    "    mutate(Is_All_Star = \"All Star\")\n",
    "head(all_stars_filtered)"
   ]
  },
  {
   "cell_type": "code",
   "execution_count": null,
   "metadata": {},
   "outputs": [],
   "source": [
    "## Combined data sets\n",
    "\n",
    "combined_data <- left_join(players_filtered, all_stars_filtered, by = c(\"Year\", \"Player\")) %>% \n",
    "    replace(is.na(.), \"Regular\") %>% \n",
    "    mutate(Is_All_Star = as_factor(Is_All_Star))\n",
    "head(combined_data)"
   ]
  },
  {
   "cell_type": "code",
   "execution_count": null,
   "metadata": {},
   "outputs": [],
   "source": [
    "## Graphs displaying relationships between each variable.\n",
    "\n",
    "plot <- ggpairs(combined_data, columns = 3:7, \n",
    "                ggplot2::aes(color = Is_All_Star, alpha = 0.4),\n",
    "                upper = list(continuous = \"points\", wrap(\"cor\", size = 2.5)))\n",
    "# TODO: Add a legend to the graph, along with x and y labels. Also, standardize the stats if possible.\n",
    "plot"
   ]
  },
  {
   "cell_type": "markdown",
   "metadata": {},
   "source": [
    "## Methods"
   ]
  },
  {
   "cell_type": "markdown",
   "metadata": {},
   "source": [
    "We will find each player’s annual player stats (points, rebounds, assists, minutes per game, and field goal percentage) for each year and use these predictors in our classification model. We chose these variables because they are the most indicative of a player's offensive output, which is the main focus of the all star game.\n",
    "We will find the annual performance of each player’s points, rebound, assist … \n",
    "Scatterplot and Density plot\n",
    "Points, rebound, assist\n",
    "\n",
    "TODO: This looks unfinished, so finish this."
   ]
  },
  {
   "cell_type": "markdown",
   "metadata": {},
   "source": [
    "## Expected Outcomes and Significance"
   ]
  },
  {
   "cell_type": "markdown",
   "metadata": {},
   "source": [
    "Based on the annual summary statistics of each player, we expect to see players with top performances (point, assist, rebound …) to have a higher likelihood of being selected into the all star game.\n",
    "\n",
    "What impact could such findings have?\n",
    "\n",
    "Value of each player, commerical investment of players (or investment in general)\n",
    "Companies and sponsors are able to sign and invest on certain players early on in the season based on their chance of getting selected into the all star game to maximize investment return. Teams can also focus their resources on certain players in the team based on our prediction. Based on our model, players are able to analyze their weaknesses and improve their overall performance????\n",
    "What future questions could this lead to?\n",
    "Based on the specific player being traded, could the value of a player to a specific team be assessed? (This player addresses a deficiency in defensive, offense, rebounding etc that the team may have)\n",
    "NEW\n",
    "How can players improve their performance based on our model? How to maximize fan votes, current member votes, and media votes other than improving their performances. Revenue of a team after a player/players on their team is selected to play in the all star game. How much revenue can an all star player bring to the team\n",
    "\n",
    "TODO: This also looks unfinished, so finish/clean up too."
   ]
  },
  {
   "cell_type": "markdown",
   "metadata": {},
   "source": [
    "TODO: Before submitting... \n",
    "- Check word count and make sure its under 500.\n",
    "- Check over rubric and make sure everything is good.\n",
    "- Read over one last time to make sure everything sounds good.\n",
    "- Push this into the main branch"
   ]
  }
 ],
 "metadata": {
  "kernelspec": {
   "display_name": "R",
   "language": "R",
   "name": "ir"
  },
  "language_info": {
   "codemirror_mode": "r",
   "file_extension": ".r",
   "mimetype": "text/x-r-source",
   "name": "R",
   "pygments_lexer": "r",
   "version": "4.0.0"
  }
 },
 "nbformat": 4,
 "nbformat_minor": 4
}
